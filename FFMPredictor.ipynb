{
 "cells": [
  {
   "cell_type": "markdown",
   "metadata": {},
   "source": [
    "# Field-Aware Factorization machine predictor\n",
    "\n",
    "This model uses a Field-Aware Factorization machine in combination with a unsupervised gradient boosted decision tree (30 trees) for feature engineering. The gradient boosted decision tree is regularly trained in a supervised way but instead of using its target predictions the leaf index predictions are used as features for the Field-Aware Factorization machine. This approach was proposed by Xinran He et al. <a href='http://quinonero.net/Publications/predicting-clicks-facebook.pdf' >Practical Lessons from Predicting Clicks on Ads at Facebook</a> and used in the winning solution of the previous Click-Trough prediction competition <a href='https://www.kaggle.com/c/criteo-display-ad-challenge'>Display Advertising Challenge</a>.\n",
    "\n",
    "Field-Aware Factorization machines proved to be a very strong powerful model in past Click-Trough prediction competitions. They work well when used with categorical features. The used library is <a href='http://xlearn-doc.readthedocs.io'>xLearn</a>."
   ]
  },
  {
   "cell_type": "code",
   "execution_count": 1,
   "metadata": {},
   "outputs": [],
   "source": [
    "import numpy as np\n",
    "import pandas as pd\n",
    "import matplotlib.pyplot as plt\n",
    "import seaborn as sns\n",
    "\n",
    "sns.set()\n",
    "\n",
    "import gc\n",
    "\n",
    "import math\n",
    "\n",
    "def sigmoid(x):\n",
    "    return 1 / (1 + np.exp(-1*x))\n",
    "\n",
    "path = '~/.kaggle/competitions/talkingdata-adtracking-fraud-detection/'"
   ]
  },
  {
   "cell_type": "markdown",
   "metadata": {},
   "source": [
    "## Load and downcast data"
   ]
  },
  {
   "cell_type": "code",
   "execution_count": 2,
   "metadata": {},
   "outputs": [],
   "source": [
    "def downcast_dtypes(df):\n",
    "    '''\n",
    "        Changes column types in the dataframe: \n",
    "                \n",
    "                `float64` type to `float32`\n",
    "                `int64`   type to `int32`\n",
    "    '''\n",
    "    # Select columns to downcast\n",
    "    float_cols = [c for c in df if df[c].dtype == \"float64\"]\n",
    "    int_cols =   [c for c in df if df[c].dtype == \"int64\"]\n",
    "    \n",
    "    # Downcast\n",
    "    df[float_cols] = df[float_cols].astype(np.float32)\n",
    "    df[int_cols]   = df[int_cols].astype(np.int32)\n",
    "    \n",
    "    if df.loc[:, 'device'].dtype != 'int16':\n",
    "        df.loc[:, 'device'] = df.loc[:, 'device'].astype(np.int16)\n",
    "    if df.loc[:, 'os'].dtype != 'int16':\n",
    "        df.loc[:, 'os'] = df.loc[:, 'os'].astype(np.int16)\n",
    "    if df.loc[:, 'channel'].dtype != 'int16':\n",
    "        df.loc[:, 'channel'] = df.loc[:, 'channel'].astype(np.int16)\n",
    "    if 'is_attributed' in df.columns:\n",
    "        df.loc[:, 'is_attributed'] = df.loc[:, 'is_attributed'].astype(np.int8)\n",
    "    \n",
    "    if 'day' in df.columns and df.loc[:, 'day'].dtype != 'int8':\n",
    "        df.loc[:, 'day'] = df.loc[:, 'day'].astype(np.int8)\n",
    "    \n",
    "    return df"
   ]
  },
  {
   "cell_type": "code",
   "execution_count": 3,
   "metadata": {},
   "outputs": [],
   "source": [
    "def to_drop(df):\n",
    "    df.drop([c for c in df.columns if 'target_mean' in c or 'freq' in c or c in ['day', 'next_click_shift']],\n",
    "            axis=1, inplace=True)\n",
    "    return df"
   ]
  },
  {
   "cell_type": "code",
   "execution_count": 4,
   "metadata": {},
   "outputs": [
    {
     "name": "stdout",
     "output_type": "stream",
     "text": [
      "Loaded df_train_chunk0\n",
      "Loaded df_train_chunk1\n",
      "Loaded df_train_chunk2\n",
      "Loaded df_train_chunk3\n",
      "Loaded df_train_chunk4\n",
      "Loaded df_train_chunk5\n",
      "Loaded df_train_chunk6\n",
      "Loaded df_train_chunk7\n",
      "Loaded df_train_chunk8\n",
      "Loaded df_train_chunk9\n",
      "Finished df_train, shape: (179903890, 43)\n",
      "Loaded df_valid\n",
      "Finished df_valid, shape: (5000000, 43)\n",
      "Loaded df_test\n",
      "Finished df_test, shape (18790469, 43)\n"
     ]
    }
   ],
   "source": [
    "b_include_test = True\n",
    "n_chunks = 10\n",
    "\n",
    "with pd.HDFStore('instance-1/home/klauke_peter/store_enc_chunks.h5',  mode='r') as store:\n",
    "    for n in range(n_chunks):\n",
    "        df_train_chunk = store.select('df_train_chunk{}'.format(n))\n",
    "        df_train_chunk = to_drop(df_train_chunk)\n",
    "        print('Loaded df_train_chunk{}'.format(n))\n",
    "        \n",
    "        df_train_chunk = downcast_dtypes(df_train_chunk)\n",
    "        if n == 0:\n",
    "            df_train = df_train_chunk\n",
    "        else:\n",
    "            df_train = pd.concat([df_train, df_train_chunk])\n",
    "        del df_train_chunk\n",
    "        gc.collect()\n",
    "        \n",
    "    print('Finished df_train, shape:', df_train.shape)\n",
    "    \n",
    "    df_valid =  downcast_dtypes(store.select('df_valid'))\n",
    "    df_valid = to_drop(df_valid)\n",
    "    print('Loaded df_valid')\n",
    "    df_valid = downcast_dtypes(df_valid)\n",
    "    print('Finished df_valid, shape:', df_valid.shape)\n",
    "    \n",
    "    if b_include_test:\n",
    "        df_test =  downcast_dtypes(store.select('df_test'))\n",
    "        df_test = to_drop(df_test)\n",
    "        print('Loaded df_test')\n",
    "        df_test = downcast_dtypes(df_test)\n",
    "        print('Finished df_test, shape', df_test.shape)"
   ]
  },
  {
   "cell_type": "markdown",
   "metadata": {},
   "source": [
    "## Time-based split between training and validation\n",
    "\n",
    "Create a time-based split between training and validation for proper validation during feature selection and hyperparameter tuning. If there would've been time left in the competition the complete training data (including validation data) should've been used for the final submission."
   ]
  },
  {
   "cell_type": "code",
   "execution_count": 5,
   "metadata": {},
   "outputs": [
    {
     "data": {
      "text/plain": [
       "944"
      ]
     },
     "execution_count": 5,
     "metadata": {},
     "output_type": "execute_result"
    }
   ],
   "source": [
    "split_date = pd.Timestamp(year=2017, month=11, day=9, hour=5)\n",
    "\n",
    "df_train = df_train.loc[df_train.click_time < split_date, :]\n",
    "gc.collect()"
   ]
  },
  {
   "cell_type": "code",
   "execution_count": 6,
   "metadata": {},
   "outputs": [
    {
     "name": "stdout",
     "output_type": "stream",
     "text": [
      "train shape:  (148239045, 43)\n",
      "valid shape:  (2327952, 43)\n"
     ]
    }
   ],
   "source": [
    "df_valid = df_valid.loc[ ((df_valid.minute_of_day > 295) & (df_valid.minute_of_day < 365))\n",
    "                       | ((df_valid.minute_of_day > 535) & (df_valid.minute_of_day < 665))\n",
    "                       | ((df_valid.minute_of_day > 770) & (df_valid.minute_of_day < 905))]\n",
    "\n",
    "gc.collect()\n",
    "\n",
    "print('train shape: ', df_train.shape)\n",
    "print('valid shape: ', df_valid.shape)"
   ]
  },
  {
   "cell_type": "markdown",
   "metadata": {},
   "source": [
    "Inspect time-based split. Training data overlaps with validation data because there are multiple days in training data."
   ]
  },
  {
   "cell_type": "code",
   "execution_count": 7,
   "metadata": {},
   "outputs": [
    {
     "name": "stderr",
     "output_type": "stream",
     "text": [
      "/home/klauke_peter/.local/lib/python3.5/site-packages/pandas/core/computation/check.py:17: UserWarning: The installed version of numexpr 2.4.3 is not supported in pandas and will be not be used\n",
      "The minimum supported version is 2.4.6\n",
      "\n",
      "  ver=ver, min_ver=_MIN_NUMEXPR_VERSION), UserWarning)\n",
      "/home/klauke_peter/.local/lib/python3.5/site-packages/matplotlib/axes/_axes.py:6462: UserWarning: The 'normed' kwarg is deprecated, and has been replaced by the 'density' kwarg.\n",
      "  warnings.warn(\"The 'normed' kwarg is deprecated, and has been \"\n"
     ]
    },
    {
     "data": {
      "image/png": "[encoded data removed]",
      "text/plain": [
       "<Figure size 1008x432 with 1 Axes>"
      ]
     },
     "metadata": {},
     "output_type": "display_data"
    }
   ],
   "source": [
    "plt.figure(figsize=(14, 6))\n",
    "\n",
    "plt.hist(df_train.click_time.dt.hour*60 + df_train.click_time.dt.minute, bins=(24*60)//10, normed=True, alpha=0.7, label='train')\n",
    "plt.hist(df_valid.click_time.dt.hour*60 + df_valid.click_time.dt.minute, bins=(24*60)//10, normed=True, alpha=0.7, label='valid')\n",
    "if b_include_test:\n",
    "    plt.hist(df_test.click_time.dt.hour*60 + df_test.click_time.dt.minute, bins=(24*60)//10, normed=True, alpha=0.7, label='test')\n",
    "\n",
    "plt.legend()\n",
    "plt.xticks(range(0, 60*24, 60))\n",
    "\n",
    "plt.show()"
   ]
  },
  {
   "cell_type": "markdown",
   "metadata": {},
   "source": [
    "# Feature Engineering using Boosted Decision Trees\n",
    "\n",
    "A gradient boosted decision trees with 30 trees is used for Feature Engineering. Using 30 trees is an arbitrary choice that should've been tuned if there would've been enough time. The features generated by the gradient boosted decision tree are the leaf index predictions.\n",
    "\n",
    "The features used for the gradient boosted decision tree were carefully selected using Forward Selection."
   ]
  },
  {
   "cell_type": "markdown",
   "metadata": {},
   "source": [
    "### Train LightGBM model"
   ]
  },
  {
   "cell_type": "code",
   "execution_count": 9,
   "metadata": {},
   "outputs": [],
   "source": [
    "features_cat = ['app', 'os', 'channel', 'device', 'hour', 'timeframe_17', 'category_mod_16']\n",
    "features = features_cat\n",
    "features += [\n",
    "                'minute_of_day',\n",
    "                'next_click',\n",
    "                'app_nunique_gby_ip_device_os', 'channel_count_gby_ip_app', 'channel_count_gby_ip_app_os',\n",
    "                'channel_nunique_gby_app', 'channel_nunique_gby_ip', 'day_var_gby_ip_app_channel',\n",
    "                'device_nunique_gby_ip', 'hour_nunique_gby_ip_day', 'os_count_gby_ip', 'os_nunique_gby_ip_app',\n",
    "                'ip_os_nextClick',\n",
    "                'timeframe_11_mean_gby_ip_app_channel'\n",
    "            ]"
   ]
  },
  {
   "cell_type": "code",
   "execution_count": 2,
   "metadata": {},
   "outputs": [
    {
     "name": "stdout",
     "output_type": "stream",
     "text": [
      "[30]\ttrain's auc: 0.985921\tvalid's auc: 0.974475\n"
     ]
    }
   ],
   "source": [
    "from sklearn.metrics import roc_auc_score\n",
    "import lightgbm\n",
    "\n",
    "n_trees = 30\n",
    "\n",
    "lgb_train_set = lightgbm.Dataset(df_train.loc[:, features], label=df_train.loc[:, 'is_attributed'],\n",
    "                                 feature_name=features,\n",
    "                                 categorical_feature=[f for f in features if f in features_cat])\n",
    "\n",
    "lgb_valid_set = lightgbm.Dataset(df_valid.loc[:, features], label=df_valid.loc[:, 'is_attributed'],\n",
    "                                 feature_name=features,\n",
    "                                 categorical_feature=[f for f in features if f in features_cat])\n",
    "\n",
    "                       \n",
    "params_lgb = {'objective': 'binary', 'metric': 'AUC', 'boosting': 'gbdt', 'learning_rate': 0.2,\n",
    "              'verbose': 0, 'num_leaves': 128, 'bagging_fraction': 0.7, 'bagging_freq': 1, 'bagging_seed': 1,\n",
    "              'feature_fraction': 1.0, 'feature_fraction_seed': 1, 'max_bin': 256,\n",
    "              'min_data_in_leaf': 5000, 'seed': 1, 'lambda_l1': 0, 'lambda_l2': 0,\n",
    "              'scale_pos_weight': 200, 'two_round': True, 'max_depth': 10,\n",
    "              'min_sum_hessian_in_leaf': 4000}\n",
    "\n",
    "lgb = lightgbm.train(params_lgb, \n",
    "                     train_set=lgb_train_set,\n",
    "                     num_boost_round=n_trees,\n",
    "                     valid_sets=[lgb_train_set, lgb_valid_set], valid_names=['train', 'valid'],\n",
    "                     fobj=None, feval=None, init_model=None,\n",
    "                     feature_name='auto', categorical_feature='auto', \n",
    "                     early_stopping_rounds=None, evals_result=None, verbose_eval=30, learning_rates=None, \n",
    "                     keep_training_booster=False, callbacks=None)\n",
    "    \n",
    "del lgb_train_set, lgb_valid_set\n",
    "gc.collect()"
   ]
  },
  {
   "cell_type": "code",
   "execution_count": 11,
   "metadata": {},
   "outputs": [],
   "source": [
    "import pickle\n",
    " \n",
    "pickle.dump(lgb,  open( 'lgb_le0.2_allchunks_30trees.pkl', 'wb' ) )"
   ]
  },
  {
   "cell_type": "code",
   "execution_count": 11,
   "metadata": {},
   "outputs": [
    {
     "data": {
      "image/png": "[encoded data removed]",
      "text/plain": [
       "<Figure size 720x432 with 1 Axes>"
      ]
     },
     "metadata": {},
     "output_type": "display_data"
    }
   ],
   "source": [
    "fig = plt.figure(figsize=(10, 6))\n",
    "\n",
    "feature_importance = lgb.feature_importance()\n",
    "sorted_idx = np.argsort(feature_importance)\n",
    "\n",
    "plt.barh(range(len(sorted_idx)), feature_importance[sorted_idx], align='center')\n",
    "plt.yticks(range(len(sorted_idx)), np.array(features)[sorted_idx])\n",
    "plt.xlabel('Importance')\n",
    "plt.title('Feature importance')\n",
    "plt.draw()\n",
    "plt.show()"
   ]
  },
  {
   "cell_type": "markdown",
   "metadata": {},
   "source": [
    "### Get and save leaf indices prediction"
   ]
  },
  {
   "cell_type": "code",
   "execution_count": null,
   "metadata": {},
   "outputs": [],
   "source": [
    "import pickle\n",
    "\n",
    "lgb = pickle.load( open('lgb_le0.2_allchunks_30trees.pkl', 'rb'))"
   ]
  },
  {
   "cell_type": "code",
   "execution_count": 15,
   "metadata": {},
   "outputs": [
    {
     "name": "stdout",
     "output_type": "stream",
     "text": [
      "Processing split 9\n",
      "\t Finished predicting sample with 14823909 rows\n",
      "Finished training sample\n",
      "\t Finished predicting sample with 2327952 rows\n",
      "Finished validation sample\n",
      "\t Finished predicting sample with 18790469 rows\n",
      "Finished test sample\n"
     ]
    },
    {
     "data": {
      "text/plain": [
       "0"
      ]
     },
     "execution_count": 15,
     "metadata": {},
     "output_type": "execute_result"
    }
   ],
   "source": [
    "n_splits = 10\n",
    "splitsize = df_train.shape[0] // n_splits\n",
    "\n",
    "def save_leaves(df, filename):\n",
    "    cols = ['tree{}_leaf_index'.format(i) for i in range(n_trees)]\n",
    "\n",
    "    leaf_indices = lgb.predict(df, pred_leaf=True)\n",
    "    print('\\t Finished predicting sample with {} rows'.format(df.shape[0]))\n",
    "    df_leaf_indices = pd.DataFrame(leaf_indices, columns=cols, dtype=np.int8)\n",
    "    df_leaf_indices.to_csv('Leaf_predictions/' + filename, index=False)\n",
    "    \n",
    "    del df_leaf_indices\n",
    "    gc.collect()\n",
    "\n",
    "for split in range(n_splits-1):\n",
    "    print('Processing split {}'.format(split))\n",
    "    df_split = df_train.iloc[split*splitsize : (split+1)*splitsize, :]\n",
    "    save_leaves(df_split.loc[:, features], 'leaves_train_split_{}.csv'.format(split))\n",
    "    \n",
    "print('Processing split {}'.format(n_splits-1))\n",
    "df_split = df_train.iloc[(n_splits-1)*splitsize:, :]\n",
    "save_leaves(df_split.loc[:, features], 'leaves_train_split_{}.csv'.format(n_splits-1))\n",
    "print('Finished training sample')\n",
    "\n",
    "del df_split\n",
    "gc.collect()\n",
    "\n",
    "save_leaves(df_valid.loc[:, features], 'leaves_valid.csv')\n",
    "print('Finished validation sample')\n",
    "\n",
    "if b_include_test:\n",
    "    save_leaves(df_test.loc[:, features], 'leaves_test.csv')\n",
    "    print('Finished test sample')\n",
    "\n",
    "gc.collect()"
   ]
  },
  {
   "cell_type": "markdown",
   "metadata": {},
   "source": [
    "# Regular Feature Engineering\n",
    "\n",
    "Field-Aware Factorization machines work best with categoric columns therefore numeric columns are binned."
   ]
  },
  {
   "cell_type": "code",
   "execution_count": 12,
   "metadata": {},
   "outputs": [
    {
     "data": {
      "text/plain": [
       "(169357466, 42)"
      ]
     },
     "execution_count": 12,
     "metadata": {},
     "output_type": "execute_result"
    }
   ],
   "source": [
    "len_train = df_train.shape[0]\n",
    "len_valid = df_valid.shape[0] \n",
    "\n",
    "if b_include_test:\n",
    "    len_test = df_test.shape[0]\n",
    "    df_concat = pd.concat([df_train, df_valid, df_test])\n",
    "    del df_test\n",
    "else:\n",
    "    df_concat = pd.concat([df_train, df_valid])\n",
    "\n",
    "del df_train\n",
    "del df_valid\n",
    "gc.collect()\n",
    "\n",
    "df_concat.shape"
   ]
  },
  {
   "cell_type": "code",
   "execution_count": 13,
   "metadata": {},
   "outputs": [
    {
     "name": "stdout",
     "output_type": "stream",
     "text": [
      "Processing ip_os_nextClick with 2912006 NaN values.\n",
      "Processing ip_nextClick with 263424 NaN values.\n",
      "Processing ip_app_nextClick with 3523247 NaN values.\n",
      "Processing os_count_gby_ip with 0 NaN values.\n",
      "Processing app_nunique_gby_ip_device_os with 0 NaN values.\n"
     ]
    },
    {
     "data": {
      "text/plain": [
       "123"
      ]
     },
     "execution_count": 13,
     "metadata": {},
     "output_type": "execute_result"
    }
   ],
   "source": [
    "for col in ['ip_os_nextClick', 'ip_nextClick', 'ip_app_nextClick',\n",
    "            'os_count_gby_ip', 'app_nunique_gby_ip_device_os']:\n",
    "    if col+'_cat' not in df_concat.columns:\n",
    "        srs_mask = df_concat.loc[:, col].isnull() | np.isinf(df_concat.loc[:, col])\n",
    "        print('Processing ' + col + ' with ' + str(np.sum(srs_mask)) + ' NaN values.')\n",
    "        \n",
    "        if any(srs_mask):\n",
    "            col_name_na = col + '_cat_na'\n",
    "            df_concat.loc[srs_mask, col] = -1\n",
    "            df_concat.loc[srs_mask, col_name_na] = 1\n",
    "            df_concat.loc[~srs_mask, col_name_na] = 0\n",
    "            df_concat.loc[:, col_name_na] = df_concat.loc[:, col_name_na].astype(np.int8)\n",
    "\n",
    "        df_concat.loc[:, col + '_cat'] =  pd.cut(df_concat.loc[:, col], 30, labels=False).astype(np.int8)\n",
    "    \n",
    "mod = 8\n",
    "df_concat.loc[:, 'category_mod{}'.format(mod)] = df_concat.category.apply(lambda x: x % mod)\n",
    "    \n",
    "del srs_mask\n",
    "gc.collect()"
   ]
  },
  {
   "cell_type": "code",
   "execution_count": 14,
   "metadata": {},
   "outputs": [
    {
     "name": "stdout",
     "output_type": "stream",
     "text": [
      "(148239045, 51)\n",
      "(2327952, 51)\n",
      "(18790469, 51)\n"
     ]
    },
    {
     "data": {
      "text/plain": [
       "34"
      ]
     },
     "execution_count": 14,
     "metadata": {},
     "output_type": "execute_result"
    }
   ],
   "source": [
    "df_train = df_concat.iloc[:len_train, :]\n",
    "df_valid = df_concat.iloc[len_train:len_train+len_valid, :]\n",
    "\n",
    "print(df_train.shape)\n",
    "print(df_valid.shape)\n",
    "\n",
    "if b_include_test:\n",
    "    df_test = df_concat.iloc[len_train+len_valid:, :]\n",
    "    print(df_test.shape)\n",
    "    \n",
    "del df_concat\n",
    "gc.collect()"
   ]
  },
  {
   "cell_type": "code",
   "execution_count": 15,
   "metadata": {},
   "outputs": [
    {
     "name": "stdout",
     "output_type": "stream",
     "text": [
      "14 features\n"
     ]
    }
   ],
   "source": [
    "target = 'is_attributed'\n",
    "features = ['app', 'os', 'channel', 'device', 'timeframe_17', 'category_mod8']\n",
    "features += [feature for feature in df_train.columns if 'leaf_index' in feature]\n",
    "features += [feature for feature in df_train.columns if '_cat' in feature]\n",
    "\n",
    "features = [f for f in features if f != 'target_mean_category_mod16'] # contains _cat, get rid of it\n",
    "\n",
    "print('{} features'.format(len(features)))"
   ]
  },
  {
   "cell_type": "markdown",
   "metadata": {},
   "source": [
    "Field-Aware Factorization Machines may have problems if test data contains categories not appearing in training data. In addition categories with only very few samples may lead to overfitting. Therefore all categories that appear less than 10 times are replaced by the value -1. The same is done for all samples in validation and test data if the respective category of that sample isn't in training data."
   ]
  },
  {
   "cell_type": "code",
   "execution_count": 44,
   "metadata": {},
   "outputs": [
    {
     "name": "stdout",
     "output_type": "stream",
     "text": [
      "Processing:  app\n",
      "Processing:  os\n",
      "Processing:  channel\n",
      "Processing:  device\n",
      "Processing:  timeframe_17\n",
      "Processing:  category_mod8\n",
      "Processing:  ip_os_nextClick_cat_na\n",
      "Processing:  ip_os_nextClick_cat\n",
      "Processing:  ip_nextClick_cat_na\n",
      "Processing:  ip_nextClick_cat\n",
      "Processing:  ip_app_nextClick_cat_na\n",
      "Processing:  ip_app_nextClick_cat\n",
      "Processing:  os_count_gby_ip_cat\n",
      "Processing:  app_nunique_gby_ip_device_os_cat\n"
     ]
    },
    {
     "data": {
      "text/plain": [
       "389"
      ]
     },
     "execution_count": 44,
     "metadata": {},
     "output_type": "execute_result"
    }
   ],
   "source": [
    "for feature in features:\n",
    "    if 'leaf_index' not in feature:\n",
    "        print('Processing: ', feature)\n",
    "        tmp = df_train.loc[:, feature].value_counts() < 10\n",
    "        tmp = tmp[tmp]\n",
    "        df_train.loc[df_train.loc[:, feature].apply(lambda x: x in tmp.index), feature] = -1\n",
    "\n",
    "        set_feature = set(df_train.loc[:, feature])\n",
    "        df_valid.loc[~df_valid.loc[:, feature].isin(set_feature), feature] = -1\n",
    "\n",
    "        if b_include_test:\n",
    "            df_test.loc[~df_test.loc[:, feature].isin(set_feature), feature] = -1\n",
    "\n",
    "del tmp, set_feature\n",
    "gc.collect()"
   ]
  },
  {
   "cell_type": "code",
   "execution_count": 18,
   "metadata": {},
   "outputs": [
    {
     "data": {
      "text/plain": [
       "495"
      ]
     },
     "execution_count": 18,
     "metadata": {},
     "output_type": "execute_result"
    }
   ],
   "source": [
    "df_train = df_train.loc[:, [target] + features]\n",
    "df_valid = df_valid.loc[:, [target] + features]\n",
    "df_test = df_test.loc[:, [target] + features]\n",
    "gc.collect()"
   ]
  },
  {
   "cell_type": "markdown",
   "metadata": {},
   "source": [
    "### Load leaf predictions"
   ]
  },
  {
   "cell_type": "code",
   "execution_count": 43,
   "metadata": {},
   "outputs": [
    {
     "name": "stdout",
     "output_type": "stream",
     "text": [
      "Concatenating train\n",
      "train shape: (148239045, 45)\n",
      "valid shape: (2327952, 45)\n",
      "test shape: (18790469, 45)\n"
     ]
    },
    {
     "data": {
      "text/html": [
       "<div>\n",
       "<style scoped>\n",
       "    .dataframe tbody tr th:only-of-type {\n",
       "        vertical-align: middle;\n",
       "    }\n",
       "\n",
       "    .dataframe tbody tr th {\n",
       "        vertical-align: top;\n",
       "    }\n",
       "\n",
       "    .dataframe thead th {\n",
       "        text-align: right;\n",
       "    }\n",
       "</style>\n",
       "<table border=\"1\" class=\"dataframe\">\n",
       "  <thead>\n",
       "    <tr style=\"text-align: right;\">\n",
       "      <th></th>\n",
       "      <th>is_attributed</th>\n",
       "      <th>app</th>\n",
       "      <th>os</th>\n",
       "      <th>channel</th>\n",
       "      <th>device</th>\n",
       "      <th>timeframe_17</th>\n",
       "      <th>category_mod8</th>\n",
       "      <th>ip_os_nextClick_cat_na</th>\n",
       "      <th>ip_os_nextClick_cat</th>\n",
       "      <th>ip_nextClick_cat_na</th>\n",
       "      <th>...</th>\n",
       "      <th>tree20_leaf_index</th>\n",
       "      <th>tree21_leaf_index</th>\n",
       "      <th>tree22_leaf_index</th>\n",
       "      <th>tree23_leaf_index</th>\n",
       "      <th>tree24_leaf_index</th>\n",
       "      <th>tree25_leaf_index</th>\n",
       "      <th>tree26_leaf_index</th>\n",
       "      <th>tree27_leaf_index</th>\n",
       "      <th>tree28_leaf_index</th>\n",
       "      <th>tree29_leaf_index</th>\n",
       "    </tr>\n",
       "  </thead>\n",
       "  <tbody>\n",
       "    <tr>\n",
       "      <th>11</th>\n",
       "      <td>0</td>\n",
       "      <td>3</td>\n",
       "      <td>13</td>\n",
       "      <td>379</td>\n",
       "      <td>1</td>\n",
       "      <td>51</td>\n",
       "      <td>7</td>\n",
       "      <td>0</td>\n",
       "      <td>2</td>\n",
       "      <td>0</td>\n",
       "      <td>...</td>\n",
       "      <td>24</td>\n",
       "      <td>14</td>\n",
       "      <td>21</td>\n",
       "      <td>17</td>\n",
       "      <td>11</td>\n",
       "      <td>28</td>\n",
       "      <td>53</td>\n",
       "      <td>13</td>\n",
       "      <td>38</td>\n",
       "      <td>10</td>\n",
       "    </tr>\n",
       "    <tr>\n",
       "      <th>22</th>\n",
       "      <td>0</td>\n",
       "      <td>14</td>\n",
       "      <td>3</td>\n",
       "      <td>478</td>\n",
       "      <td>1</td>\n",
       "      <td>52</td>\n",
       "      <td>2</td>\n",
       "      <td>0</td>\n",
       "      <td>2</td>\n",
       "      <td>0</td>\n",
       "      <td>...</td>\n",
       "      <td>85</td>\n",
       "      <td>22</td>\n",
       "      <td>75</td>\n",
       "      <td>17</td>\n",
       "      <td>37</td>\n",
       "      <td>17</td>\n",
       "      <td>84</td>\n",
       "      <td>14</td>\n",
       "      <td>38</td>\n",
       "      <td>10</td>\n",
       "    </tr>\n",
       "  </tbody>\n",
       "</table>\n",
       "<p>2 rows × 45 columns</p>\n",
       "</div>"
      ],
      "text/plain": [
       "    is_attributed  app  os  channel  device  timeframe_17  category_mod8  \\\n",
       "11              0    3  13      379       1            51              7   \n",
       "22              0   14   3      478       1            52              2   \n",
       "\n",
       "    ip_os_nextClick_cat_na  ip_os_nextClick_cat  ip_nextClick_cat_na  \\\n",
       "11                       0                    2                    0   \n",
       "22                       0                    2                    0   \n",
       "\n",
       "          ...          tree20_leaf_index  tree21_leaf_index  \\\n",
       "11        ...                         24                 14   \n",
       "22        ...                         85                 22   \n",
       "\n",
       "    tree22_leaf_index  tree23_leaf_index  tree24_leaf_index  \\\n",
       "11                 21                 17                 11   \n",
       "22                 75                 17                 37   \n",
       "\n",
       "    tree25_leaf_index  tree26_leaf_index  tree27_leaf_index  \\\n",
       "11                 28                 53                 13   \n",
       "22                 17                 84                 14   \n",
       "\n",
       "    tree28_leaf_index  tree29_leaf_index  \n",
       "11                 38                 10  \n",
       "22                 38                 10  \n",
       "\n",
       "[2 rows x 45 columns]"
      ]
     },
     "execution_count": 43,
     "metadata": {},
     "output_type": "execute_result"
    }
   ],
   "source": [
    "df_leaves = pd.DataFrame()\n",
    "\n",
    "n_splits = 10\n",
    "\n",
    "for i in range(n_splits):\n",
    "    print('Processing split ', i)\n",
    "    df_leaves_split = pd.read_csv('Leaf_predictions/leaves_train_split_{}.csv'.format(i), dtype=np.uint8)\n",
    "    df_leaves = pd.concat([df_leaves, df_leaves_split])\n",
    "    print('leaves shape: {}'.format(df_leaves.shape))\n",
    "    #pass\n",
    "\n",
    "print('Concatenating train')\n",
    "#df_train = pd.concat([df_train.reset_index(drop=True), df_leaves], axis=1)\n",
    "for c in df_leaves.columns:\n",
    "    df_train.loc[:, c] = df_leaves.loc[:, c].values\n",
    "del df_leaves\n",
    "gc.collect()\n",
    "print('train shape: {}'.format(df_train.shape))\n",
    "\n",
    "df_leaves_valid = pd.read_csv('Leaf_predictions/leaves_valid.csv'.format(i), dtype=np.uint8)\n",
    "#df_valid = pd.concat([df_valid.reset_index(drop=True), df_leaves_valid], axis=1)\n",
    "for c in df_leaves_valid.columns:\n",
    "    df_valid.loc[:, c] = df_leaves_valid.loc[:, c].values\n",
    "del df_leaves_valid\n",
    "gc.collect()\n",
    "print('valid shape: {}'.format(df_valid.shape))\n",
    "\n",
    "if b_include_test:\n",
    "    df_leaves_test = pd.read_csv('Leaf_predictions/leaves_test.csv'.format(i), dtype=np.uint8)\n",
    "    #df_test = pd.concat([df_test.reset_index(drop=True), df_leaves_test], axis=1)\n",
    "    for c in df_leaves_test.columns:\n",
    "        df_test.loc[:, c] = df_leaves_test.loc[:, c].values\n",
    "    del df_leaves_test\n",
    "    gc.collect()\n",
    "    print('test shape: {}'.format(df_test.shape))\n",
    "    \n",
    "features += [feature for feature in df_train.columns if 'leaf_index' in feature]\n",
    "df_train.head(n=2)"
   ]
  },
  {
   "cell_type": "markdown",
   "metadata": {},
   "source": [
    "### Check category diversity in train, validation and test set\n",
    "\n",
    "If there are more different categories in one category columns in the test or validation set there is an issue in previous feature engineering."
   ]
  },
  {
   "cell_type": "code",
   "execution_count": 45,
   "metadata": {},
   "outputs": [
    {
     "name": "stdout",
     "output_type": "stream",
     "text": [
      "396 \t 287 \t 342 \t app\n",
      "281 \t 217 \t 254 \t os\n",
      "180 \t 171 \t 175 \t channel\n",
      "1033 \t 562 \t 932 \t device\n",
      "85 \t 23 \t 24 \t timeframe_17\n",
      "8 \t 8 \t 8 \t category_mod8\n",
      "2 \t 2 \t 2 \t ip_os_nextClick_cat_na\n",
      "30 \t 28 \t 19 \t ip_os_nextClick_cat\n",
      "2 \t 2 \t 2 \t ip_nextClick_cat_na\n",
      "30 \t 26 \t 18 \t ip_nextClick_cat\n",
      "2 \t 2 \t 2 \t ip_app_nextClick_cat_na\n",
      "30 \t 28 \t 19 \t ip_app_nextClick_cat\n",
      "13 \t 13 \t 13 \t os_count_gby_ip_cat\n",
      "29 \t 28 \t 29 \t app_nunique_gby_ip_device_os_cat\n",
      "128 \t 128 \t 127 \t tree0_leaf_index\n",
      "128 \t 128 \t 127 \t tree1_leaf_index\n",
      "128 \t 128 \t 128 \t tree2_leaf_index\n",
      "128 \t 128 \t 128 \t tree3_leaf_index\n",
      "128 \t 128 \t 128 \t tree4_leaf_index\n",
      "128 \t 125 \t 126 \t tree5_leaf_index\n",
      "128 \t 127 \t 127 \t tree6_leaf_index\n",
      "128 \t 128 \t 128 \t tree7_leaf_index\n",
      "128 \t 128 \t 128 \t tree8_leaf_index\n",
      "128 \t 128 \t 128 \t tree9_leaf_index\n",
      "128 \t 128 \t 128 \t tree10_leaf_index\n",
      "128 \t 128 \t 128 \t tree11_leaf_index\n",
      "128 \t 127 \t 128 \t tree12_leaf_index\n",
      "128 \t 126 \t 127 \t tree13_leaf_index\n",
      "128 \t 128 \t 128 \t tree14_leaf_index\n",
      "128 \t 126 \t 126 \t tree15_leaf_index\n",
      "128 \t 128 \t 128 \t tree16_leaf_index\n",
      "128 \t 128 \t 128 \t tree17_leaf_index\n",
      "128 \t 128 \t 128 \t tree18_leaf_index\n",
      "128 \t 127 \t 127 \t tree19_leaf_index\n",
      "128 \t 128 \t 128 \t tree20_leaf_index\n",
      "128 \t 128 \t 128 \t tree21_leaf_index\n",
      "128 \t 128 \t 128 \t tree22_leaf_index\n",
      "128 \t 128 \t 128 \t tree23_leaf_index\n",
      "103 \t 103 \t 103 \t tree24_leaf_index\n",
      "104 \t 101 \t 98 \t tree25_leaf_index\n",
      "128 \t 128 \t 128 \t tree26_leaf_index\n",
      "55 \t 55 \t 55 \t tree27_leaf_index\n",
      "57 \t 57 \t 57 \t tree28_leaf_index\n",
      "43 \t 43 \t 43 \t tree29_leaf_index\n"
     ]
    }
   ],
   "source": [
    "for col in df_train.loc[:, features].columns:\n",
    "    if b_include_test:\n",
    "        print(len(df_train.loc[:, col].unique()), '\\t',\n",
    "              len(df_valid.loc[:, col].unique()), '\\t',\n",
    "              len(df_test.loc[:, col].unique()),  '\\t',\n",
    "              col)\n",
    "    else:\n",
    "        print(len(df_train.loc[:, col].unique()), '\\t',\n",
    "              len(df_valid.loc[:, col].unique()), '\\t',\n",
    "              col)"
   ]
  },
  {
   "cell_type": "markdown",
   "metadata": {},
   "source": [
    "## Save data sets and convert them into the required format for Field-Aware Factorization machines\n",
    "\n",
    "Converting is done using the script in repository <a href='https://github.com/pklauke/LibFFMGenerator'>LibFFMGenerator</a>."
   ]
  },
  {
   "cell_type": "code",
   "execution_count": 47,
   "metadata": {},
   "outputs": [
    {
     "name": "stdout",
     "output_type": "stream",
     "text": [
      "train finished\n",
      "valid finished\n",
      "test finished\n"
     ]
    }
   ],
   "source": [
    "df_train.loc[:, [target] + features].to_csv('LibFFM/trainffm.csv', index=False, header=False)\n",
    "print('train finished')\n",
    "df_valid.loc[:, [target] + features].to_csv('LibFFM/validffm.csv', index=False, header=False)\n",
    "print('valid finished')\n",
    "\n",
    "if b_include_test:\n",
    "    df_test.loc[:, [target] + features].to_csv('LibFFM/testffm.csv', index=False, header=False)\n",
    "    print('test finished')"
   ]
  },
  {
   "cell_type": "code",
   "execution_count": 48,
   "metadata": {},
   "outputs": [],
   "source": [
    "import os\n",
    "\n",
    "if b_include_test:\n",
    "    os.system('LibFFMGenerator/LibffmGenerator.out LibFFM/trainffm.csv --valid LibFFM/validffm.csv --test LibFFM/testffm.csv --n_train {} --n_valid {} --n_test {}'.format(df_train.shape[0], df_valid.shape[0], df_test.shape[0]))\n",
    "else:\n",
    "    os.system('LibFFMGenerator/LibffmGenerator.out LibFFM/trainffm.csv --valid LibFFM/validffm.csv --n_train {} --n_valid {}'.format(df_train.shape[0], df_valid.shape[0]))"
   ]
  },
  {
   "cell_type": "markdown",
   "metadata": {},
   "source": [
    "# Modelling "
   ]
  },
  {
   "cell_type": "code",
   "execution_count": 25,
   "metadata": {},
   "outputs": [],
   "source": [
    "import xlearn as xl\n",
    "\n",
    "\n",
    "# Training task\n",
    "ffm_model = xl.create_ffm()  # Use field-aware factorization machine\n",
    "ffm_model.setTrain(\"./LibFFM/trainffm_ffmGen.txt\")   # Training data\n",
    "ffm_model.setValidate(\"./LibFFM/validffm_ffmGen.txt\")  # Validation data\n",
    "\n",
    "# On-disk training\n",
    "#ffm_model.setOnDisk()\n",
    "\n",
    "param = {#'block_size': 100000,\n",
    "         'task':'binary', # ‘binary’ for classification, ‘reg’ for Regression\n",
    "         'k':8,           # Size of latent factor\n",
    "         'lr':0.05, #0.05       # Learning rate for GD\n",
    "         'lambda':0.00001, # L2 Regularization Parameter\n",
    "         'metric':'auc',  # Metric for monitoring validation set performance\n",
    "         'epoch':10,      # Maximum number of Epochs\n",
    "         'opt':'adagrad'#, #'adagrad' 'sgd' 'ftrl'\n",
    "        }\n",
    "\n",
    "# Train model\n",
    "ffm_model.disableEarlyStop()\n",
    "#ffm_model.disableLockFree()\n",
    "ffm_model.fit(param, \"./LibFFM/model_2.out\")"
   ]
  },
  {
   "cell_type": "code",
   "execution_count": 48,
   "metadata": {},
   "outputs": [],
   "source": [
    "import xlearn as xl\n",
    "\n",
    "# Training task\n",
    "ffm_model = xl.create_ffm()\n",
    "\n",
    "ffm_model.setTest(\"./LibFFM/validffm_ffmGen.txt\")\n",
    "ffm_model.setSigmoid()\n",
    "ffm_model.predict(\"./LibFFM/model_2.out\", \"./LibFFM/preds_valid_ffm_2.txt\")"
   ]
  },
  {
   "cell_type": "markdown",
   "metadata": {},
   "source": [
    "# Create submission file "
   ]
  },
  {
   "cell_type": "code",
   "execution_count": 51,
   "metadata": {},
   "outputs": [],
   "source": [
    "import xlearn as xl\n",
    "\n",
    "# Training task\n",
    "ffm_model = xl.create_ffm()\n",
    "\n",
    "ffm_model.setTest(\"./LibFFM/testffm_ffmGen.txt\")\n",
    "ffm_model.setSigmoid()\n",
    "ffm_model.predict(\"./LibFFM/model_2.out\", \"./LibFFM/preds_test_ffm_2.txt\")"
   ]
  },
  {
   "cell_type": "code",
   "execution_count": 33,
   "metadata": {},
   "outputs": [
    {
     "data": {
      "text/html": [
       "<div>\n",
       "<style scoped>\n",
       "    .dataframe tbody tr th:only-of-type {\n",
       "        vertical-align: middle;\n",
       "    }\n",
       "\n",
       "    .dataframe tbody tr th {\n",
       "        vertical-align: top;\n",
       "    }\n",
       "\n",
       "    .dataframe thead th {\n",
       "        text-align: right;\n",
       "    }\n",
       "</style>\n",
       "<table border=\"1\" class=\"dataframe\">\n",
       "  <thead>\n",
       "    <tr style=\"text-align: right;\">\n",
       "      <th></th>\n",
       "      <th>click_id</th>\n",
       "      <th>is_attributed</th>\n",
       "    </tr>\n",
       "  </thead>\n",
       "  <tbody>\n",
       "    <tr>\n",
       "      <th>0</th>\n",
       "      <td>0</td>\n",
       "      <td>0</td>\n",
       "    </tr>\n",
       "    <tr>\n",
       "      <th>1</th>\n",
       "      <td>1</td>\n",
       "      <td>0</td>\n",
       "    </tr>\n",
       "  </tbody>\n",
       "</table>\n",
       "</div>"
      ],
      "text/plain": [
       "   click_id  is_attributed\n",
       "0         0              0\n",
       "1         1              0"
      ]
     },
     "execution_count": 33,
     "metadata": {},
     "output_type": "execute_result"
    }
   ],
   "source": [
    "df_submission = pd.read_csv('instance-1/home/klauke_peter/.kaggle/competitions/talkingdata-adtracking-fraud-detection/sample_submission.csv.zip')\n",
    "#df_submission = downcast_dtypes(df_submission)\n",
    "df_submission.head(n=2)"
   ]
  },
  {
   "cell_type": "code",
   "execution_count": 34,
   "metadata": {},
   "outputs": [],
   "source": [
    "preds_test = pd.read_csv('LibFFM/preds_test_ffm_2.txt', header=None).values"
   ]
  },
  {
   "cell_type": "code",
   "execution_count": 47,
   "metadata": {},
   "outputs": [],
   "source": [
    "preds_test[np.isnan(preds_test)] = np.mean(preds_test[~np.isnan(preds_test)])"
   ]
  },
  {
   "cell_type": "code",
   "execution_count": 50,
   "metadata": {},
   "outputs": [
    {
     "data": {
      "text/html": [
       "<div>\n",
       "<style scoped>\n",
       "    .dataframe tbody tr th:only-of-type {\n",
       "        vertical-align: middle;\n",
       "    }\n",
       "\n",
       "    .dataframe tbody tr th {\n",
       "        vertical-align: top;\n",
       "    }\n",
       "\n",
       "    .dataframe thead th {\n",
       "        text-align: right;\n",
       "    }\n",
       "</style>\n",
       "<table border=\"1\" class=\"dataframe\">\n",
       "  <thead>\n",
       "    <tr style=\"text-align: right;\">\n",
       "      <th></th>\n",
       "      <th>click_id</th>\n",
       "      <th>is_attributed</th>\n",
       "    </tr>\n",
       "  </thead>\n",
       "  <tbody>\n",
       "    <tr>\n",
       "      <th>0</th>\n",
       "      <td>0</td>\n",
       "      <td>0.000273</td>\n",
       "    </tr>\n",
       "    <tr>\n",
       "      <th>1</th>\n",
       "      <td>1</td>\n",
       "      <td>0.000909</td>\n",
       "    </tr>\n",
       "    <tr>\n",
       "      <th>2</th>\n",
       "      <td>2</td>\n",
       "      <td>0.000146</td>\n",
       "    </tr>\n",
       "    <tr>\n",
       "      <th>3</th>\n",
       "      <td>3</td>\n",
       "      <td>0.000266</td>\n",
       "    </tr>\n",
       "    <tr>\n",
       "      <th>4</th>\n",
       "      <td>4</td>\n",
       "      <td>0.000172</td>\n",
       "    </tr>\n",
       "  </tbody>\n",
       "</table>\n",
       "</div>"
      ],
      "text/plain": [
       "   click_id  is_attributed\n",
       "0         0       0.000273\n",
       "1         1       0.000909\n",
       "2         2       0.000146\n",
       "3         3       0.000266\n",
       "4         4       0.000172"
      ]
     },
     "execution_count": 50,
     "metadata": {},
     "output_type": "execute_result"
    }
   ],
   "source": [
    "df_submission.loc[:, 'is_attributed'] = preds_test\n",
    "df_submission.to_csv('submission.csv.gz', index = False, compression = 'gzip', float_format='%.9f')\n",
    "\n",
    "df_submission.head()"
   ]
  },
  {
   "cell_type": "code",
   "execution_count": 51,
   "metadata": {},
   "outputs": [
    {
     "data": {
      "text/plain": [
       "-1"
      ]
     },
     "execution_count": 51,
     "metadata": {},
     "output_type": "execute_result"
    }
   ],
   "source": [
    "import os\n",
    "\n",
    "subname = 'gcp {}chunks le{} ffm only 44 features'.format(n_chunks, 0.02)\n",
    "os.system('kaggle competitions submit -c talkingdata-adtracking-fraud-detection -f submission.csv.gz -m \"{}\"'.format(subname))"
   ]
  },
  {
   "cell_type": "markdown",
   "metadata": {},
   "source": [
    "### Check validation / test differences"
   ]
  },
  {
   "cell_type": "code",
   "execution_count": 48,
   "metadata": {},
   "outputs": [
    {
     "name": "stdout",
     "output_type": "stream",
     "text": [
      "predictions valid mean: 0.0027907130050056944\n",
      "predictions test mean: 0.0033897322145735307\n"
     ]
    }
   ],
   "source": [
    "print('predictions valid mean: ' + str(np.mean(preds_valid)))\n",
    "print('predictions test mean: ' + str(np.mean(preds_test)))"
   ]
  },
  {
   "cell_type": "code",
   "execution_count": 49,
   "metadata": {},
   "outputs": [
    {
     "name": "stderr",
     "output_type": "stream",
     "text": [
      "/home/klauke_peter/.local/lib/python3.5/site-packages/matplotlib/axes/_axes.py:6462: UserWarning: The 'normed' kwarg is deprecated, and has been replaced by the 'density' kwarg.\n",
      "  warnings.warn(\"The 'normed' kwarg is deprecated, and has been \"\n"
     ]
    },
    {
     "data": {
      "image/png": "[encoded data removed]",
      "text/plain": [
       "<Figure size 432x288 with 1 Axes>"
      ]
     },
     "metadata": {},
     "output_type": "display_data"
    }
   ],
   "source": [
    "plt.hist(preds_valid, normed=True, label='valid', alpha=0.7, bins=50, range=(0, 0.002))\n",
    "plt.hist(preds_test, normed=True, label='test', alpha=0.7, bins=50, range=(0, 0.002))\n",
    "\n",
    "plt.legend()\n",
    "plt.xlabel('prediction')\n",
    "plt.ylabel('normed count')\n",
    "\n",
    "plt.show()"
   ]
  },
  {
   "cell_type": "code",
   "execution_count": null,
   "metadata": {},
   "outputs": [],
   "source": [
    "df_test.loc[:, 'prediction'] = preds_test\n",
    "df_test.loc[:, 'prediction'] = df_test.loc[:, 'prediction'].astype(np.float32)\n",
    "df_test.loc[:, ['prediction']].to_csv('predictions_test_new.csv')\n",
    "\n",
    "#preds_valid = lgb.predict(df_valid.loc[:, lgb_features])\n",
    "print('Valid AUC: {:0.5f}'.format(roc_auc_score(df_valid.loc[:, 'is_attributed'], preds_valid)))\n",
    "df_valid.loc[:, 'prediction'] = preds_valid\n",
    "df_valid.loc[:, 'prediction'] = df_valid.loc[:, 'prediction'].astype(np.float32)\n",
    "df_valid.loc[:, ['prediction']].to_csv('predictions_valid_new.csv')\n",
    "\n",
    "\n",
    "cols_to_read = ['is_attributed']\n",
    "df_train = pd.read_csv(path+'train.csv.zip', usecols=cols_to_read)\n",
    "\n",
    "#preds_train = lgb.predict(lightgbm.Dataset('lgb_train_data.bin'))\n",
    "print('Train AUC: {:0.5f}'.format(roc_auc_score(df_train.loc[:, 'is_attributed'], preds_train)))\n",
    "df_train.loc[:, 'prediction'] = preds_train\n",
    "df_train.loc[:, 'prediction'] = df_train.loc[:, 'prediction'].astype(np.float32)\n",
    "df_train.loc[:, ['prediction']].to_csv('predictions_train_new.csv')"
   ]
  }
 ],
 "metadata": {
  "kernelspec": {
   "display_name": "Python 3",
   "language": "python",
   "name": "python3"
  },
  "language_info": {
   "codemirror_mode": {
    "name": "ipython",
    "version": 3
   },
   "file_extension": ".py",
   "mimetype": "text/x-python",
   "name": "python",
   "nbconvert_exporter": "python",
   "pygments_lexer": "ipython3",
   "version": "3.5.2"
  }
 },
 "nbformat": 4,
 "nbformat_minor": 2
}
