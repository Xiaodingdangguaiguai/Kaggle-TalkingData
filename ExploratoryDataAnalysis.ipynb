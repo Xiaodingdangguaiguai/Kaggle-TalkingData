{
 "cells": [
  {
   "cell_type": "markdown",
   "metadata": {},
   "source": [
    "# Exploratory Data Analysis\n",
    "\n",
    "This notebook contains a short Exploratory Data Analysis for the TalkingData AdTracking Fraud Detection Kaggle challenge."
   ]
  },
  {
   "cell_type": "code",
   "execution_count": 1,
   "metadata": {},
   "outputs": [],
   "source": [
    "import numpy as np\n",
    "import pandas as pd\n",
    "import matplotlib.pyplot as plt\n",
    "import seaborn as sns\n",
    "\n",
    "sns.set()\n",
    "\n",
    "import gc"
   ]
  },
  {
   "cell_type": "code",
   "execution_count": 2,
   "metadata": {},
   "outputs": [],
   "source": [
    "path = '~/.kaggle/competitions/talkingdata-adtracking-fraud-detection/'"
   ]
  },
  {
   "cell_type": "markdown",
   "metadata": {},
   "source": [
    "# Load and downcast data types\n",
    "\n",
    "The datasets of this competition were very big and therefore downcasting data types decreases RAM requirements by a large amount."
   ]
  },
  {
   "cell_type": "code",
   "execution_count": null,
   "metadata": {},
   "outputs": [],
   "source": [
    "def downcast_dtypes(df):\n",
    "    '''\n",
    "        Changes column types in the dataframe: \n",
    "                \n",
    "                `float64` type to `float32`\n",
    "                `int64`   type to `int32`\n",
    "    '''\n",
    "    # Select columns to downcast\n",
    "    float_cols = [c for c in df if df[c].dtype == \"float64\"]\n",
    "    int_cols =   [c for c in df if df[c].dtype == \"int64\"]\n",
    "    \n",
    "    # Downcast\n",
    "    df[float_cols] = df[float_cols].astype(np.float32)\n",
    "    df[int_cols]   = df[int_cols].astype(np.int32)\n",
    "    \n",
    "    if df.loc[:, 'device'].dtype != 'int16':\n",
    "        df.loc[:, 'device'] = df.loc[:, 'device'].astype(np.int16)\n",
    "    if df.loc[:, 'os'].dtype != 'int16':\n",
    "        df.loc[:, 'os'] = df.loc[:, 'os'].astype(np.int16)\n",
    "    if df.loc[:, 'channel'].dtype != 'int16':\n",
    "        df.loc[:, 'channel'] = df.loc[:, 'channel'].astype(np.int16)\n",
    "    if 'is_attributed' in df.columns:\n",
    "        df.loc[:, 'is_attributed'] = df.loc[:, 'is_attributed'].astype(np.int8)\n",
    "    \n",
    "    if 'day' in df.columns and df.loc[:, 'day'].dtype != 'int8':\n",
    "        df.loc[:, 'day'] = df.loc[:, 'day'].astype(np.int8)\n",
    "    \n",
    "    return df"
   ]
  },
  {
   "cell_type": "code",
   "execution_count": 5,
   "metadata": {},
   "outputs": [
    {
     "name": "stdout",
     "output_type": "stream",
     "text": [
      "shape df_train: (184903890, 7)\n"
     ]
    },
    {
     "data": {
      "text/html": [
       "<div>\n",
       "<style scoped>\n",
       "    .dataframe tbody tr th:only-of-type {\n",
       "        vertical-align: middle;\n",
       "    }\n",
       "\n",
       "    .dataframe tbody tr th {\n",
       "        vertical-align: top;\n",
       "    }\n",
       "\n",
       "    .dataframe thead th {\n",
       "        text-align: right;\n",
       "    }\n",
       "</style>\n",
       "<table border=\"1\" class=\"dataframe\">\n",
       "  <thead>\n",
       "    <tr style=\"text-align: right;\">\n",
       "      <th></th>\n",
       "      <th>ip</th>\n",
       "      <th>app</th>\n",
       "      <th>device</th>\n",
       "      <th>os</th>\n",
       "      <th>channel</th>\n",
       "      <th>click_time</th>\n",
       "      <th>is_attributed</th>\n",
       "    </tr>\n",
       "  </thead>\n",
       "  <tbody>\n",
       "    <tr>\n",
       "      <th>0</th>\n",
       "      <td>83230</td>\n",
       "      <td>3</td>\n",
       "      <td>1</td>\n",
       "      <td>13</td>\n",
       "      <td>379</td>\n",
       "      <td>2017-11-06 14:32:21</td>\n",
       "      <td>0</td>\n",
       "    </tr>\n",
       "    <tr>\n",
       "      <th>1</th>\n",
       "      <td>17357</td>\n",
       "      <td>3</td>\n",
       "      <td>1</td>\n",
       "      <td>19</td>\n",
       "      <td>379</td>\n",
       "      <td>2017-11-06 14:33:34</td>\n",
       "      <td>0</td>\n",
       "    </tr>\n",
       "    <tr>\n",
       "      <th>2</th>\n",
       "      <td>35810</td>\n",
       "      <td>3</td>\n",
       "      <td>1</td>\n",
       "      <td>13</td>\n",
       "      <td>379</td>\n",
       "      <td>2017-11-06 14:34:12</td>\n",
       "      <td>0</td>\n",
       "    </tr>\n",
       "    <tr>\n",
       "      <th>3</th>\n",
       "      <td>45745</td>\n",
       "      <td>14</td>\n",
       "      <td>1</td>\n",
       "      <td>13</td>\n",
       "      <td>478</td>\n",
       "      <td>2017-11-06 14:34:52</td>\n",
       "      <td>0</td>\n",
       "    </tr>\n",
       "    <tr>\n",
       "      <th>4</th>\n",
       "      <td>161007</td>\n",
       "      <td>3</td>\n",
       "      <td>1</td>\n",
       "      <td>13</td>\n",
       "      <td>379</td>\n",
       "      <td>2017-11-06 14:35:08</td>\n",
       "      <td>0</td>\n",
       "    </tr>\n",
       "  </tbody>\n",
       "</table>\n",
       "</div>"
      ],
      "text/plain": [
       "       ip  app  device  os  channel          click_time  is_attributed\n",
       "0   83230    3       1  13      379 2017-11-06 14:32:21              0\n",
       "1   17357    3       1  19      379 2017-11-06 14:33:34              0\n",
       "2   35810    3       1  13      379 2017-11-06 14:34:12              0\n",
       "3   45745   14       1  13      478 2017-11-06 14:34:52              0\n",
       "4  161007    3       1  13      379 2017-11-06 14:35:08              0"
      ]
     },
     "execution_count": 5,
     "metadata": {},
     "output_type": "execute_result"
    }
   ],
   "source": [
    "cols_to_read = ['ip', 'app', 'device', 'os', 'channel', 'click_time', 'is_attributed']\n",
    "\n",
    "df_train = pd.read_csv(path+'train.csv.zip', usecols=cols_to_read)#, nrows=6000000)\n",
    "df_train.loc[:, 'click_time'] = pd.to_datetime(df_train.click_time)\n",
    "df_train = downcast_dtypes(df_train)\n",
    "print('shape df_train: ' + str(df_train.shape))\n",
    "df_train.head()"
   ]
  },
  {
   "cell_type": "code",
   "execution_count": 6,
   "metadata": {},
   "outputs": [
    {
     "name": "stdout",
     "output_type": "stream",
     "text": [
      "shape df_test: (18790469, 6)\n"
     ]
    },
    {
     "data": {
      "text/html": [
       "<div>\n",
       "<style scoped>\n",
       "    .dataframe tbody tr th:only-of-type {\n",
       "        vertical-align: middle;\n",
       "    }\n",
       "\n",
       "    .dataframe tbody tr th {\n",
       "        vertical-align: top;\n",
       "    }\n",
       "\n",
       "    .dataframe thead th {\n",
       "        text-align: right;\n",
       "    }\n",
       "</style>\n",
       "<table border=\"1\" class=\"dataframe\">\n",
       "  <thead>\n",
       "    <tr style=\"text-align: right;\">\n",
       "      <th></th>\n",
       "      <th>ip</th>\n",
       "      <th>app</th>\n",
       "      <th>device</th>\n",
       "      <th>os</th>\n",
       "      <th>channel</th>\n",
       "      <th>click_time</th>\n",
       "    </tr>\n",
       "  </thead>\n",
       "  <tbody>\n",
       "    <tr>\n",
       "      <th>0</th>\n",
       "      <td>5744</td>\n",
       "      <td>9</td>\n",
       "      <td>1</td>\n",
       "      <td>3</td>\n",
       "      <td>107</td>\n",
       "      <td>2017-11-10 04:00:00</td>\n",
       "    </tr>\n",
       "    <tr>\n",
       "      <th>1</th>\n",
       "      <td>119901</td>\n",
       "      <td>9</td>\n",
       "      <td>1</td>\n",
       "      <td>3</td>\n",
       "      <td>466</td>\n",
       "      <td>2017-11-10 04:00:00</td>\n",
       "    </tr>\n",
       "    <tr>\n",
       "      <th>2</th>\n",
       "      <td>72287</td>\n",
       "      <td>21</td>\n",
       "      <td>1</td>\n",
       "      <td>19</td>\n",
       "      <td>128</td>\n",
       "      <td>2017-11-10 04:00:00</td>\n",
       "    </tr>\n",
       "    <tr>\n",
       "      <th>3</th>\n",
       "      <td>78477</td>\n",
       "      <td>15</td>\n",
       "      <td>1</td>\n",
       "      <td>13</td>\n",
       "      <td>111</td>\n",
       "      <td>2017-11-10 04:00:00</td>\n",
       "    </tr>\n",
       "    <tr>\n",
       "      <th>4</th>\n",
       "      <td>123080</td>\n",
       "      <td>12</td>\n",
       "      <td>1</td>\n",
       "      <td>13</td>\n",
       "      <td>328</td>\n",
       "      <td>2017-11-10 04:00:00</td>\n",
       "    </tr>\n",
       "  </tbody>\n",
       "</table>\n",
       "</div>"
      ],
      "text/plain": [
       "       ip  app  device  os  channel          click_time\n",
       "0    5744    9       1   3      107 2017-11-10 04:00:00\n",
       "1  119901    9       1   3      466 2017-11-10 04:00:00\n",
       "2   72287   21       1  19      128 2017-11-10 04:00:00\n",
       "3   78477   15       1  13      111 2017-11-10 04:00:00\n",
       "4  123080   12       1  13      328 2017-11-10 04:00:00"
      ]
     },
     "execution_count": 6,
     "metadata": {},
     "output_type": "execute_result"
    }
   ],
   "source": [
    "cols_to_read = ['ip', 'app', 'device', 'os', 'channel', 'click_time']\n",
    "\n",
    "df_test = pd.read_csv(path+'test.csv.zip', usecols=cols_to_read)#, nrows=1000000)\n",
    "df_test.loc[:, 'click_time'] = pd.to_datetime(df_test.click_time)\n",
    "df_test = downcast_dtypes(df_test)\n",
    "print('shape df_test: ' + str(df_test.shape))\n",
    "df_test.head()"
   ]
  },
  {
   "cell_type": "code",
   "execution_count": 7,
   "metadata": {},
   "outputs": [
    {
     "name": "stdout",
     "output_type": "stream",
     "text": [
      "shape df_test_supplement: (57537505, 6)\n"
     ]
    },
    {
     "data": {
      "text/html": [
       "<div>\n",
       "<style scoped>\n",
       "    .dataframe tbody tr th:only-of-type {\n",
       "        vertical-align: middle;\n",
       "    }\n",
       "\n",
       "    .dataframe tbody tr th {\n",
       "        vertical-align: top;\n",
       "    }\n",
       "\n",
       "    .dataframe thead th {\n",
       "        text-align: right;\n",
       "    }\n",
       "</style>\n",
       "<table border=\"1\" class=\"dataframe\">\n",
       "  <thead>\n",
       "    <tr style=\"text-align: right;\">\n",
       "      <th></th>\n",
       "      <th>ip</th>\n",
       "      <th>app</th>\n",
       "      <th>device</th>\n",
       "      <th>os</th>\n",
       "      <th>channel</th>\n",
       "      <th>click_time</th>\n",
       "    </tr>\n",
       "  </thead>\n",
       "  <tbody>\n",
       "    <tr>\n",
       "      <th>0</th>\n",
       "      <td>43570</td>\n",
       "      <td>3</td>\n",
       "      <td>1</td>\n",
       "      <td>18</td>\n",
       "      <td>379</td>\n",
       "      <td>2017-11-09 14:23:39</td>\n",
       "    </tr>\n",
       "    <tr>\n",
       "      <th>1</th>\n",
       "      <td>80528</td>\n",
       "      <td>3</td>\n",
       "      <td>1</td>\n",
       "      <td>13</td>\n",
       "      <td>379</td>\n",
       "      <td>2017-11-09 14:23:51</td>\n",
       "    </tr>\n",
       "    <tr>\n",
       "      <th>2</th>\n",
       "      <td>32323</td>\n",
       "      <td>3</td>\n",
       "      <td>1</td>\n",
       "      <td>13</td>\n",
       "      <td>379</td>\n",
       "      <td>2017-11-09 14:25:57</td>\n",
       "    </tr>\n",
       "    <tr>\n",
       "      <th>3</th>\n",
       "      <td>42887</td>\n",
       "      <td>3</td>\n",
       "      <td>1</td>\n",
       "      <td>17</td>\n",
       "      <td>379</td>\n",
       "      <td>2017-11-09 14:26:03</td>\n",
       "    </tr>\n",
       "    <tr>\n",
       "      <th>4</th>\n",
       "      <td>119289</td>\n",
       "      <td>58</td>\n",
       "      <td>1</td>\n",
       "      <td>30</td>\n",
       "      <td>120</td>\n",
       "      <td>2017-11-09 14:26:41</td>\n",
       "    </tr>\n",
       "  </tbody>\n",
       "</table>\n",
       "</div>"
      ],
      "text/plain": [
       "       ip  app  device  os  channel          click_time\n",
       "0   43570    3       1  18      379 2017-11-09 14:23:39\n",
       "1   80528    3       1  13      379 2017-11-09 14:23:51\n",
       "2   32323    3       1  13      379 2017-11-09 14:25:57\n",
       "3   42887    3       1  17      379 2017-11-09 14:26:03\n",
       "4  119289   58       1  30      120 2017-11-09 14:26:41"
      ]
     },
     "execution_count": 7,
     "metadata": {},
     "output_type": "execute_result"
    }
   ],
   "source": [
    "df_test_supplement = pd.read_csv(path+'test_supplement.csv.zip', usecols=cols_to_read)#, nrows=50000)\n",
    "df_test_supplement.loc[:, 'click_time'] = pd.to_datetime(df_test_supplement.click_time)\n",
    "df_test_supplement = downcast_dtypes(df_test_supplement)\n",
    "print('shape df_test_supplement: ' + str(df_test_supplement.shape))\n",
    "df_test_supplement.head()"
   ]
  },
  {
   "cell_type": "code",
   "execution_count": 8,
   "metadata": {},
   "outputs": [],
   "source": [
    "df_train.loc[:, 'hour'] = df_train.click_time.dt.hour.astype(np.int8)\n",
    "df_train.loc[:, 'day'] = df_train.click_time.dt.day.astype(np.int8)\n",
    "df_train = downcast_dtypes(df_train)\n",
    "\n",
    "df_test.loc[:, 'hour'] = df_test.click_time.dt.hour.astype(np.int8)\n",
    "df_test.loc[:, 'day'] = df_test.click_time.dt.day.astype(np.int8)\n",
    "df_test = downcast_dtypes(df_test)\n",
    "    \n",
    "df_test_supplement.loc[:, 'hour'] = df_test_supplement.click_time.dt.hour.astype(np.int8)\n",
    "df_test_supplement.loc[:, 'day'] = df_test_supplement.click_time.dt.day.astype(np.int8)\n",
    "df_test_supplement = downcast_dtypes(df_test_supplement)\n",
    "    \n",
    "def add_time_features(df):\n",
    "    df.loc[:, 'minute_of_day'] = df.click_time.dt.hour*60 + df.click_time.dt.minute\n",
    "    df.loc[:, 'minute_of_day'] = df.minute_of_day.astype(np.uint16)\n",
    "    \n",
    "    df.loc[:, 'timeframe_11'] = df.minute_of_day // 11\n",
    "    df.loc[:, 'timeframe_11'] = df.timeframe_11.astype(np.uint8)\n",
    "    \n",
    "    df.loc[:, 'timeframe_17'] = df.minute_of_day // 17\n",
    "    df.loc[:, 'timeframe_17'] = df.timeframe_17.astype(np.uint8)\n",
    "\n",
    "add_time_features(df_train)\n",
    "add_time_features(df_test)\n",
    "add_time_features(df_test_supplement)"
   ]
  },
  {
   "cell_type": "code",
   "execution_count": 9,
   "metadata": {},
   "outputs": [
    {
     "name": "stdout",
     "output_type": "stream",
     "text": [
      "ip int32\n",
      "app int32\n",
      "device int16\n",
      "os int16\n",
      "channel int16\n",
      "click_time datetime64[ns]\n",
      "is_attributed int8\n",
      "hour int8\n",
      "day int8\n",
      "minute_of_day uint16\n",
      "timeframe_11 uint8\n",
      "timeframe_17 uint8\n"
     ]
    }
   ],
   "source": [
    "for c in df_train.columns:\n",
    "    print(c, df_train[c].dtype)"
   ]
  },
  {
   "cell_type": "code",
   "execution_count": 10,
   "metadata": {},
   "outputs": [
    {
     "name": "stdout",
     "output_type": "stream",
     "text": [
      "ip int32\n",
      "app int32\n",
      "device int16\n",
      "os int16\n",
      "channel int16\n",
      "click_time datetime64[ns]\n",
      "hour int8\n",
      "day int8\n",
      "minute_of_day uint16\n",
      "timeframe_11 uint8\n",
      "timeframe_17 uint8\n"
     ]
    }
   ],
   "source": [
    "for c in df_test.columns:\n",
    "    print(c, df_test[c].dtype)"
   ]
  },
  {
   "cell_type": "code",
   "execution_count": 11,
   "metadata": {},
   "outputs": [
    {
     "name": "stdout",
     "output_type": "stream",
     "text": [
      "ip int32\n",
      "app int32\n",
      "device int16\n",
      "os int16\n",
      "channel int16\n",
      "click_time datetime64[ns]\n",
      "hour int8\n",
      "day int8\n",
      "minute_of_day uint16\n",
      "timeframe_11 uint8\n",
      "timeframe_17 uint8\n"
     ]
    }
   ],
   "source": [
    "for c in df_test_supplement.columns:\n",
    "    print(c, df_test_supplement[c].dtype)"
   ]
  },
  {
   "cell_type": "markdown",
   "metadata": {},
   "source": [
    "# Training distribution (time and target)"
   ]
  },
  {
   "cell_type": "code",
   "execution_count": 14,
   "metadata": {},
   "outputs": [
    {
     "name": "stdout",
     "output_type": "stream",
     "text": [
      "0.248 % of rows are attributed (target = 1)\n"
     ]
    }
   ],
   "source": [
    "srs_target_counts = df_train.is_attributed.value_counts()\n",
    "\n",
    "print('{:0.3f} % of rows are attributed (target = 1)'.format(srs_target_counts[1] / srs_target_counts[0] * 100))"
   ]
  },
  {
   "cell_type": "code",
   "execution_count": 15,
   "metadata": {},
   "outputs": [
    {
     "data": {
      "image/png": "[encoded data removed]",
      "text/plain": [
       "<matplotlib.figure.Figure at 0x399841630>"
      ]
     },
     "metadata": {},
     "output_type": "display_data"
    }
   ],
   "source": [
    "df_train.loc[:, ['click_time', 'ip']].groupby([df_train.click_time.dt.month, \n",
    "                                               df_train.click_time.dt.day, \n",
    "                                               df_train.click_time.dt.hour]).ip.count().plot(kind=\"bar\")\n",
    "\n",
    "plt.xlabel('click time')\n",
    "plt.ylabel('counts')\n",
    "\n",
    "plt.show()"
   ]
  },
  {
   "cell_type": "markdown",
   "metadata": {},
   "source": [
    "# Test distribution\n",
    "\n",
    "The test set is created using a time-based split with some gap between training and test and some gaps within the test. Choice of validation set is probably best by using the same hours of the previous as well as a time-based split. When comparing validation scores with public Leaderboard scores one can also find that the public vs private test split is most likely based on hour 4 vs hour >= 5. Therefore a time-based split between training and validation set on hour >= 5 on the previous seems logical. "
   ]
  },
  {
   "cell_type": "code",
   "execution_count": 28,
   "metadata": {},
   "outputs": [
    {
     "data": {
      "image/png": "[encoded data removed]",
      "text/plain": [
       "<matplotlib.figure.Figure at 0x2943f98d0>"
      ]
     },
     "metadata": {},
     "output_type": "display_data"
    }
   ],
   "source": [
    "df_test.loc[:, ['click_time', 'ip']].groupby([df_test.click_time.dt.month, \n",
    "                                              df_test.click_time.dt.day, \n",
    "                                              df_test.click_time.dt.hour]).ip.count().plot(kind=\"bar\")\n",
    "\n",
    "plt.xlabel('click time')\n",
    "plt.ylabel('counts')\n",
    "\n",
    "plt.show()"
   ]
  },
  {
   "cell_type": "code",
   "execution_count": 16,
   "metadata": {},
   "outputs": [
    {
     "data": {
      "text/html": [
       "<div>\n",
       "<style>\n",
       "    .dataframe thead tr:only-child th {\n",
       "        text-align: right;\n",
       "    }\n",
       "\n",
       "    .dataframe thead th {\n",
       "        text-align: left;\n",
       "    }\n",
       "\n",
       "    .dataframe tbody tr th {\n",
       "        vertical-align: top;\n",
       "    }\n",
       "</style>\n",
       "<table border=\"1\" class=\"dataframe\">\n",
       "  <thead>\n",
       "    <tr style=\"text-align: right;\">\n",
       "      <th></th>\n",
       "      <th>ip</th>\n",
       "      <th>app</th>\n",
       "      <th>device</th>\n",
       "      <th>os</th>\n",
       "      <th>channel</th>\n",
       "      <th>is_attributed</th>\n",
       "    </tr>\n",
       "  </thead>\n",
       "  <tbody>\n",
       "    <tr>\n",
       "      <th>count</th>\n",
       "      <td>1.849039e+08</td>\n",
       "      <td>1.849039e+08</td>\n",
       "      <td>1.849039e+08</td>\n",
       "      <td>1.849039e+08</td>\n",
       "      <td>1.849039e+08</td>\n",
       "      <td>1.849039e+08</td>\n",
       "    </tr>\n",
       "    <tr>\n",
       "      <th>mean</th>\n",
       "      <td>9.087604e+04</td>\n",
       "      <td>1.201131e+01</td>\n",
       "      <td>2.172325e+01</td>\n",
       "      <td>2.267702e+01</td>\n",
       "      <td>2.685789e+02</td>\n",
       "      <td>2.470721e-03</td>\n",
       "    </tr>\n",
       "    <tr>\n",
       "      <th>std</th>\n",
       "      <td>6.952789e+04</td>\n",
       "      <td>1.480521e+01</td>\n",
       "      <td>2.593326e+02</td>\n",
       "      <td>5.525282e+01</td>\n",
       "      <td>1.295882e+02</td>\n",
       "      <td>4.964491e-02</td>\n",
       "    </tr>\n",
       "    <tr>\n",
       "      <th>min</th>\n",
       "      <td>1.000000e+00</td>\n",
       "      <td>0.000000e+00</td>\n",
       "      <td>0.000000e+00</td>\n",
       "      <td>0.000000e+00</td>\n",
       "      <td>0.000000e+00</td>\n",
       "      <td>0.000000e+00</td>\n",
       "    </tr>\n",
       "    <tr>\n",
       "      <th>25%</th>\n",
       "      <td>4.024500e+04</td>\n",
       "      <td>3.000000e+00</td>\n",
       "      <td>1.000000e+00</td>\n",
       "      <td>1.300000e+01</td>\n",
       "      <td>1.400000e+02</td>\n",
       "      <td>0.000000e+00</td>\n",
       "    </tr>\n",
       "    <tr>\n",
       "      <th>50%</th>\n",
       "      <td>7.962200e+04</td>\n",
       "      <td>1.200000e+01</td>\n",
       "      <td>1.000000e+00</td>\n",
       "      <td>1.800000e+01</td>\n",
       "      <td>2.580000e+02</td>\n",
       "      <td>0.000000e+00</td>\n",
       "    </tr>\n",
       "    <tr>\n",
       "      <th>75%</th>\n",
       "      <td>1.182470e+05</td>\n",
       "      <td>1.500000e+01</td>\n",
       "      <td>1.000000e+00</td>\n",
       "      <td>1.900000e+01</td>\n",
       "      <td>3.790000e+02</td>\n",
       "      <td>0.000000e+00</td>\n",
       "    </tr>\n",
       "    <tr>\n",
       "      <th>max</th>\n",
       "      <td>3.647780e+05</td>\n",
       "      <td>7.680000e+02</td>\n",
       "      <td>4.227000e+03</td>\n",
       "      <td>9.560000e+02</td>\n",
       "      <td>5.000000e+02</td>\n",
       "      <td>1.000000e+00</td>\n",
       "    </tr>\n",
       "  </tbody>\n",
       "</table>\n",
       "</div>"
      ],
      "text/plain": [
       "                 ip           app        device            os       channel  \\\n",
       "count  1.849039e+08  1.849039e+08  1.849039e+08  1.849039e+08  1.849039e+08   \n",
       "mean   9.087604e+04  1.201131e+01  2.172325e+01  2.267702e+01  2.685789e+02   \n",
       "std    6.952789e+04  1.480521e+01  2.593326e+02  5.525282e+01  1.295882e+02   \n",
       "min    1.000000e+00  0.000000e+00  0.000000e+00  0.000000e+00  0.000000e+00   \n",
       "25%    4.024500e+04  3.000000e+00  1.000000e+00  1.300000e+01  1.400000e+02   \n",
       "50%    7.962200e+04  1.200000e+01  1.000000e+00  1.800000e+01  2.580000e+02   \n",
       "75%    1.182470e+05  1.500000e+01  1.000000e+00  1.900000e+01  3.790000e+02   \n",
       "max    3.647780e+05  7.680000e+02  4.227000e+03  9.560000e+02  5.000000e+02   \n",
       "\n",
       "       is_attributed  \n",
       "count   1.849039e+08  \n",
       "mean    2.470721e-03  \n",
       "std     4.964491e-02  \n",
       "min     0.000000e+00  \n",
       "25%     0.000000e+00  \n",
       "50%     0.000000e+00  \n",
       "75%     0.000000e+00  \n",
       "max     1.000000e+00  "
      ]
     },
     "execution_count": 16,
     "metadata": {},
     "output_type": "execute_result"
    }
   ],
   "source": [
    "df_train.describe()"
   ]
  },
  {
   "cell_type": "markdown",
   "metadata": {},
   "source": [
    "# Distributions of nomical categoric columns"
   ]
  },
  {
   "cell_type": "code",
   "execution_count": 17,
   "metadata": {},
   "outputs": [
    {
     "data": {
      "image/png": "[encoded data removed]",
      "text/plain": [
       "<matplotlib.figure.Figure at 0x2d5208b70>"
      ]
     },
     "metadata": {},
     "output_type": "display_data"
    },
    {
     "data": {
      "text/plain": [
       "149813"
      ]
     },
     "execution_count": 17,
     "metadata": {},
     "output_type": "execute_result"
    }
   ],
   "source": [
    "plt.figure(figsize=(16,6))\n",
    "\n",
    "df_train_gby_app = df_train.app.value_counts()\n",
    "plt.bar(df_train_gby_app.index, df_train_gby_app.values)\n",
    "\n",
    "plt.xlabel('app')\n",
    "plt.ylabel('count')\n",
    "\n",
    "plt.yscale('log')\n",
    "\n",
    "plt.show()\n",
    "\n",
    "del df_train_gby_app\n",
    "gc.collect()"
   ]
  },
  {
   "cell_type": "code",
   "execution_count": 18,
   "metadata": {},
   "outputs": [
    {
     "data": {
      "image/png": "[encoded data removed]",
      "text/plain": [
       "<matplotlib.figure.Figure at 0x1149c86d8>"
      ]
     },
     "metadata": {},
     "output_type": "display_data"
    },
    {
     "data": {
      "text/plain": [
       "620158"
      ]
     },
     "execution_count": 18,
     "metadata": {},
     "output_type": "execute_result"
    }
   ],
   "source": [
    "plt.figure(figsize=(16,6))\n",
    "\n",
    "df_train_gby_device = df_train.device.value_counts()\n",
    "plt.bar(df_train_gby_device.index, df_train_gby_device.values)\n",
    "\n",
    "plt.xlabel('device')\n",
    "plt.ylabel('count')\n",
    "\n",
    "plt.yscale('log')\n",
    "\n",
    "plt.show()\n",
    "\n",
    "del df_train_gby_device\n",
    "gc.collect()"
   ]
  },
  {
   "cell_type": "code",
   "execution_count": 19,
   "metadata": {},
   "outputs": [
    {
     "data": {
      "image/png": "[encoded data removed]",
      "text/plain": [
       "<matplotlib.figure.Figure at 0x118b85cf8>"
      ]
     },
     "metadata": {},
     "output_type": "display_data"
    },
    {
     "data": {
      "text/plain": [
       "165243"
      ]
     },
     "execution_count": 19,
     "metadata": {},
     "output_type": "execute_result"
    }
   ],
   "source": [
    "plt.figure(figsize=(16,6))\n",
    "\n",
    "df_train_gby_os = df_train.os.value_counts()\n",
    "plt.bar(df_train_gby_os.index, df_train_gby_os.values)\n",
    "\n",
    "plt.xlabel('os')\n",
    "plt.ylabel('count')\n",
    "\n",
    "plt.yscale('log')\n",
    "\n",
    "plt.show()\n",
    "\n",
    "del df_train_gby_os\n",
    "gc.collect()"
   ]
  },
  {
   "cell_type": "code",
   "execution_count": null,
   "metadata": {},
   "outputs": [
    {
     "data": {
      "image/png": "[encoded data removed]",
      "text/plain": [
       "<matplotlib.figure.Figure at 0x118777d30>"
      ]
     },
     "metadata": {},
     "output_type": "display_data"
    },
    {
     "data": {
      "text/plain": [
       "55630"
      ]
     },
     "execution_count": 20,
     "metadata": {},
     "output_type": "execute_result"
    }
   ],
   "source": [
    "plt.figure(figsize=(16,6))\n",
    "\n",
    "df_train_gby_channel = df_train.channel.value_counts()\n",
    "plt.bar(df_train_gby_channel.index, df_train_gby_channel.values)\n",
    "\n",
    "plt.xlabel('channel')\n",
    "plt.ylabel('count')\n",
    "\n",
    "plt.yscale('log')\n",
    "\n",
    "plt.show()\n",
    "\n",
    "del df_train_gby_channel\n",
    "gc.collect()"
   ]
  },
  {
   "cell_type": "markdown",
   "metadata": {},
   "source": [
    "## test vs test_supplement\n",
    "test_supplement.csv was the test set early in the competition but was later replaced by a subset because it was too big for the grader. It is essential to understand how the organizers subsampled the test set. In the following plots one can see that the subset was created by some choice of hours.\n",
    "\n",
    "It is most likely essential to make use of test_supplement.csv instead of test.csv for engineering some features."
   ]
  },
  {
   "cell_type": "code",
   "execution_count": 12,
   "metadata": {},
   "outputs": [
    {
     "data": {
      "image/png": "[encoded data removed]",
      "text/plain": [
       "<Figure size 432x288 with 1 Axes>"
      ]
     },
     "metadata": {},
     "output_type": "display_data"
    }
   ],
   "source": [
    "df_test_supplement.loc[:, ['ip', 'click_time']].groupby([df_test_supplement.click_time.dt.day,\n",
    "                                                         df_test_supplement.click_time.dt.hour]) \\\n",
    "    .ip.count().plot(kind='bar')\n",
    "\n",
    "plt.xlabel('(Day, Hour)')\n",
    "plt.ylabel('count')\n",
    "\n",
    "plt.show()"
   ]
  },
  {
   "cell_type": "code",
   "execution_count": 13,
   "metadata": {},
   "outputs": [
    {
     "data": {
      "image/png": "[encoded data removed]",
      "text/plain": [
       "<Figure size 432x288 with 1 Axes>"
      ]
     },
     "metadata": {},
     "output_type": "display_data"
    }
   ],
   "source": [
    "df_test.loc[:, ['ip', 'click_time']].groupby([df_test.click_time.dt.day, df_test.click_time.dt.hour]) \\\n",
    "    .ip.count().plot(kind='bar')\n",
    "\n",
    "plt.xlabel('(Day, Hour)')\n",
    "plt.ylabel('count')\n",
    "\n",
    "plt.show()"
   ]
  }
 ],
 "metadata": {
  "kernelspec": {
   "display_name": "Python 3",
   "language": "python",
   "name": "python3"
  },
  "language_info": {
   "codemirror_mode": {
    "name": "ipython",
    "version": 3
   },
   "file_extension": ".py",
   "mimetype": "text/x-python",
   "name": "python",
   "nbconvert_exporter": "python",
   "pygments_lexer": "ipython3",
   "version": "3.5.2"
  }
 },
 "nbformat": 4,
 "nbformat_minor": 2
}
